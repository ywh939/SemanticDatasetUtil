{
 "cells": [
  {
   "cell_type": "code",
   "execution_count": null,
   "metadata": {},
   "outputs": [],
   "source": [
    "from pathlib import Path\n",
    "\n",
    "# lidarlist_path = Path(\"D:\\\\semantic-seg\\\\kuangka\\\\new_kuangka_label\\\\pcdPcd\")\n",
    "# lidarlist_path = Path(\"D:\\\\semantic-seg\\\\liaodui\\\\new_liaodui_label\")\n",
    "lidarlist_path = Path(\"D:\\\\semantic-seg\\\\kuangka\\\\test_kuangka_pcd\")\n",
    "lidarlist_path"
   ]
  },
  {
   "cell_type": "code",
   "execution_count": null,
   "metadata": {},
   "outputs": [],
   "source": [
    "import os\n",
    "\n",
    "file_list = os.listdir(lidarlist_path)\n",
    "len(file_list)"
   ]
  },
  {
   "cell_type": "code",
   "execution_count": null,
   "metadata": {},
   "outputs": [],
   "source": [
    "import numpy as np\n",
    "import open3d as o3d\n",
    "\n",
    "for f in file_list:\n",
    "    # pcd = np.fromfile(lidarlist_path / f, dtype=np.float32).reshape((-1, 5))\n",
    "    pcd = np.fromfile(lidarlist_path / f, dtype=np.float32)\n",
    "\n",
    "    pcd_o3d = o3d.io.read_point_cloud(str(lidarlist_path / f))\n",
    "        \n",
    "    # 将点云数据转换为 NumPy 数组\n",
    "    points = np.asarray(pcd_o3d.points)\n",
    "    break\n",
    "\n",
    "f, pcd.shape, pcd[0], pcd[1], pcd[2], pcd[3], pcd.reshape(-1, 3), points\n"
   ]
  },
  {
   "cell_type": "code",
   "execution_count": null,
   "metadata": {},
   "outputs": [],
   "source": [
    "def read_ascii_pcd(file_path):\n",
    "    # with open(file_path, 'r', encoding='utf-8') as f:\n",
    "    with open(file_path, 'r', encoding='latin-1') as f:\n",
    "        lines = f.readlines()\n",
    "    \n",
    "    points = []\n",
    "    header = True\n",
    "    for line in lines:\n",
    "        if header:\n",
    "            if line.startswith(\"DATA\"):\n",
    "                header = False\n",
    "        else:\n",
    "            points.append([float(value) for value in line.strip().split()])\n",
    "\n",
    "    return np.array(points)"
   ]
  },
  {
   "cell_type": "code",
   "execution_count": null,
   "metadata": {},
   "outputs": [],
   "source": [
    "for f in file_list:\n",
    "    file_path = lidarlist_path / f\n",
    "    # try:\n",
    "    pcd = read_ascii_pcd(file_path)\n",
    "    # except ValueError:\n",
    "    #     print(f\"Skipping {file_path}\")\n",
    "    #     continue\n",
    "\n",
    "    xyz = np.array(pcd[:, :3], dtype=np.float32)\n",
    "    label = np.array(pcd[:, 3], dtype=np.uint32).reshape(-1, 1)\n",
    "    \n",
    "    xyz.tofile((str(file_path))[:-3] + 'bin') \n",
    "    label.tofile((str(file_path))[:-3] + 'label')\n",
    "\n",
    "    a = np.fromfile((str(file_path))[:-3] + 'bin', dtype=np.float32).reshape(-1, 3)\n",
    "    b = np.fromfile((str(file_path))[:-3] + 'label', dtype=np.uint32).reshape(-1, 1)\n",
    "\n",
    "    break\n",
    "\n",
    "pcd.shape, pcd[0], xyz.shape, a.shape, label.shape, b.shape, xyz[0], a[0], label[0], b[0]"
   ]
  }
 ],
 "metadata": {
  "kernelspec": {
   "display_name": "prepare_dust",
   "language": "python",
   "name": "python3"
  },
  "language_info": {
   "codemirror_mode": {
    "name": "ipython",
    "version": 3
   },
   "file_extension": ".py",
   "mimetype": "text/x-python",
   "name": "python",
   "nbconvert_exporter": "python",
   "pygments_lexer": "ipython3",
   "version": "3.8.18"
  }
 },
 "nbformat": 4,
 "nbformat_minor": 2
}
