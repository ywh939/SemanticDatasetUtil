{
 "cells": [
  {
   "cell_type": "code",
   "execution_count": 1,
   "metadata": {},
   "outputs": [],
   "source": [
    "import os\n",
    "import shutil\n",
    "\n",
    "def get_files_in_folder(folder):\n",
    "    \"\"\"Returns a set of filenames in the given folder.\"\"\"\n",
    "    return set(os.listdir(folder))\n",
    "\n",
    "def filter_files(a_folder, b_folder, output_folder):\n",
    "    \"\"\"Filters out files in a_folder that are also in b_folder and copies remaining files to output_folder.\"\"\"\n",
    "    # Ensure the output folder exists\n",
    "    os.makedirs(output_folder, exist_ok=True)\n",
    "\n",
    "    # Get the sets of filenames in both folders\n",
    "    a_files = get_files_in_folder(a_folder)\n",
    "    b_files = get_files_in_folder(b_folder)\n",
    "\n",
    "    # Iterate through the files in a_folder\n",
    "    for file in a_files:\n",
    "        # Check if the file is not in b_folder\n",
    "        if file not in b_files:\n",
    "            # Copy the file to the output folder\n",
    "            shutil.copy(os.path.join(a_folder, file), os.path.join(output_folder, file))\n",
    "        else:\n",
    "            print(f\"File {file} is in both folders, skipping.\")\n",
    "\n"
   ]
  },
  {
   "cell_type": "code",
   "execution_count": 2,
   "metadata": {},
   "outputs": [],
   "source": [
    "from pathlib import Path\n",
    "\n",
    "# Define the folder paths\n",
    "a_folder = Path(\"D:\\\\semantic-seg\\\\kuangka\\\\kuangka_pcd\")\n",
    "b_folder = Path(\"D:\\\\semantic-seg\\\\kuangka\\\\new_kuangka_pcd\")\n",
    "output_folder = Path(\"D:\\\\semantic-seg\\\\kuangka\\\\test_kuangka_pcd\")\n"
   ]
  },
  {
   "cell_type": "code",
   "execution_count": 3,
   "metadata": {},
   "outputs": [
    {
     "name": "stdout",
     "output_type": "stream",
     "text": [
      "File _11-27_12-51_5_141.pcd is in both folders, skipping.\n",
      "File _11-27_12-51_21_796.pcd is in both folders, skipping.\n",
      "File _11-27_12-51_23_482.pcd is in both folders, skipping.\n",
      "File _11-27_12-45_50_473.pcd is in both folders, skipping.\n",
      "File _11-27_12-51_11_666.pcd is in both folders, skipping.\n",
      "File _11-27_12-45_33_316.pcd is in both folders, skipping.\n",
      "File _11-27_12-45_39_953.pcd is in both folders, skipping.\n",
      "File _11-27_12-51_9_948.pcd is in both folders, skipping.\n",
      "File _11-27_12-51_20_944.pcd is in both folders, skipping.\n",
      "File _11-27_12-45_35_629.pcd is in both folders, skipping.\n",
      "File _11-27_12-51_32_910.pcd is in both folders, skipping.\n",
      "File _11-27_12-44_45_841.pcd is in both folders, skipping.\n",
      "File _11-27_13-1_53_449.pcd is in both folders, skipping.\n",
      "File _11-27_12-47_27_551.pcd is in both folders, skipping.\n",
      "File _11-27_12-44_40_996.pcd is in both folders, skipping.\n",
      "File _11-27_12-45_48_750.pcd is in both folders, skipping.\n",
      "File _11-27_12-46_4_174.pcd is in both folders, skipping.\n",
      "File _11-27_12-51_28_178.pcd is in both folders, skipping.\n",
      "File _11-27_13-2_7_374.pcd is in both folders, skipping.\n",
      "File _11-27_12-45_37_898.pcd is in both folders, skipping.\n",
      "File _11-27_12-46_2_503.pcd is in both folders, skipping.\n",
      "File _11-27_12-45_59_786.pcd is in both folders, skipping.\n",
      "File _11-27_12-46_3_956.pcd is in both folders, skipping.\n",
      "File _11-27_12-44_43_516.pcd is in both folders, skipping.\n",
      "File _11-27_12-52_28_211.pcd is in both folders, skipping.\n",
      "File _11-27_12-47_22_628.pcd is in both folders, skipping.\n",
      "File _11-27_12-45_55_189.pcd is in both folders, skipping.\n",
      "File _11-27_12-47_18_577.pcd is in both folders, skipping.\n",
      "File _11-27_12-45_44_154.pcd is in both folders, skipping.\n",
      "File _11-27_12-45_57_519.pcd is in both folders, skipping.\n",
      "File _11-27_12-46_1_498.pcd is in both folders, skipping.\n",
      "File _11-27_12-51_4_917.pcd is in both folders, skipping.\n",
      "File _11-27_12-51_25_896.pcd is in both folders, skipping.\n",
      "File _11-27_12-52_20_474.pcd is in both folders, skipping.\n",
      "File _11-27_12-45_41_612.pcd is in both folders, skipping.\n",
      "File _11-27_12-47_24_94.pcd is in both folders, skipping.\n",
      "File _11-27_12-52_38_411.pcd is in both folders, skipping.\n",
      "File _11-27_12-47_45_173.pcd is in both folders, skipping.\n",
      "File _11-27_12-45_52_697.pcd is in both folders, skipping.\n",
      "File _11-27_12-51_16_450.pcd is in both folders, skipping.\n",
      "File _11-27_12-52_17_813.pcd is in both folders, skipping.\n",
      "File _11-27_12-45_30_844.pcd is in both folders, skipping.\n",
      "File _11-27_12-47_39_906.pcd is in both folders, skipping.\n",
      "File _11-27_12-52_35_724.pcd is in both folders, skipping.\n",
      "File _11-27_12-51_25_756.pcd is in both folders, skipping.\n",
      "File _11-27_12-51_30_538.pcd is in both folders, skipping.\n",
      "File _11-27_12-51_23_370.pcd is in both folders, skipping.\n",
      "File _11-27_12-45_46_443.pcd is in both folders, skipping.\n"
     ]
    }
   ],
   "source": [
    "\n",
    "# Filter the files\n",
    "filter_files(a_folder, b_folder, output_folder)"
   ]
  }
 ],
 "metadata": {
  "kernelspec": {
   "display_name": "prepare_dust",
   "language": "python",
   "name": "python3"
  },
  "language_info": {
   "codemirror_mode": {
    "name": "ipython",
    "version": 3
   },
   "file_extension": ".py",
   "mimetype": "text/x-python",
   "name": "python",
   "nbconvert_exporter": "python",
   "pygments_lexer": "ipython3",
   "version": "3.8.18"
  }
 },
 "nbformat": 4,
 "nbformat_minor": 2
}
